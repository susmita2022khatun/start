{
  "nbformat": 4,
  "nbformat_minor": 0,
  "metadata": {
    "colab": {
      "provenance": [],
      "authorship_tag": "ABX9TyNjokqAqn8AFQq1056UdVJj",
      "include_colab_link": true
    },
    "kernelspec": {
      "name": "python3",
      "display_name": "Python 3"
    },
    "language_info": {
      "name": "python"
    }
  },
  "cells": [
    {
      "cell_type": "markdown",
      "metadata": {
        "id": "view-in-github",
        "colab_type": "text"
      },
      "source": [
        "<a href=\"https://colab.research.google.com/github/susmita2022khatun/start/blob/main/Untitled16.ipynb\" target=\"_parent\"><img src=\"https://colab.research.google.com/assets/colab-badge.svg\" alt=\"Open In Colab\"/></a>"
      ]
    },
    {
      "cell_type": "code",
      "execution_count": 3,
      "metadata": {
        "id": "kFz2DzLNbfz7"
      },
      "outputs": [],
      "source": [
        "import sys\n",
        "import docplex.mp"
      ]
    },
    {
      "cell_type": "code",
      "source": [
        "!pip install docplex"
      ],
      "metadata": {
        "colab": {
          "base_uri": "https://localhost:8080/"
        },
        "id": "hr2cV0clbjCL",
        "outputId": "1de4dce2-25c0-43a9-e0b3-aa78496b385f"
      },
      "execution_count": 2,
      "outputs": [
        {
          "output_type": "stream",
          "name": "stdout",
          "text": [
            "Collecting docplex\n",
            "  Downloading docplex-2.25.236.tar.gz (633 kB)\n",
            "\u001b[?25l     \u001b[90m━━━━━━━━━━━━━━━━━━━━━━━━━━━━━━━━━━━━━━━━\u001b[0m \u001b[32m0.0/633.5 kB\u001b[0m \u001b[31m?\u001b[0m eta \u001b[36m-:--:--\u001b[0m\r\u001b[2K     \u001b[91m━━━━━━━━━━━━━━━━━━━━━━━━━━━━━━━━━━━━━\u001b[0m\u001b[90m╺\u001b[0m \u001b[32m624.6/633.5 kB\u001b[0m \u001b[31m20.3 MB/s\u001b[0m eta \u001b[36m0:00:01\u001b[0m\r\u001b[2K     \u001b[90m━━━━━━━━━━━━━━━━━━━━━━━━━━━━━━━━━━━━━━\u001b[0m \u001b[32m633.5/633.5 kB\u001b[0m \u001b[31m14.3 MB/s\u001b[0m eta \u001b[36m0:00:00\u001b[0m\n",
            "\u001b[?25h  Preparing metadata (setup.py) ... \u001b[?25l\u001b[?25hdone\n",
            "Requirement already satisfied: six in /usr/local/lib/python3.10/dist-packages (from docplex) (1.16.0)\n",
            "Building wheels for collected packages: docplex\n",
            "  Building wheel for docplex (setup.py) ... \u001b[?25l\u001b[?25hdone\n",
            "  Created wheel for docplex: filename=docplex-2.25.236-py3-none-any.whl size=671350 sha256=c17e13f016d9648134f85372d0704ae27898aea4b1ba6c9573a0f545444f75a0\n",
            "  Stored in directory: /root/.cache/pip/wheels/3b/e5/00/0bf0173d67188fe73a13e3a61412b3f975f60205e3fab93a69\n",
            "Successfully built docplex\n",
            "Installing collected packages: docplex\n",
            "Successfully installed docplex-2.25.236\n"
          ]
        }
      ]
    },
    {
      "cell_type": "code",
      "source": [
        "# Store longitude, latitude and street crossing name of each public library location.\n",
        "class XPoint(object):\n",
        "    def __init__(self,x,y):\n",
        "        self.x = x\n",
        "        self.y = y\n",
        "    def __str__(self):\n",
        "        return \"P(%g_%g)\" % (self.x, self.y)\n",
        "\n",
        "class NamedPoint(XPoint):\n",
        "    def __init__(self,name,x,y):\n",
        "        XPoint.__init__(self, x, y)\n",
        "        self.name = name\n",
        "    def __str__(self):\n",
        "        return self.name"
      ],
      "metadata": {
        "id": "96sKqCQ_bmfN"
      },
      "execution_count": 9,
      "outputs": []
    },
    {
      "cell_type": "code",
      "source": [
        "try:\n",
        "    import geopy.distance\n",
        "except:\n",
        "    if hasattr(sys, 'real_prefix'):\n",
        "        !pip install geopy\n",
        "    else:\n",
        "        !pip install --user geopy\n",
        ""
      ],
      "metadata": {
        "id": "AdfY5GpUbpw-"
      },
      "execution_count": 10,
      "outputs": []
    },
    {
      "cell_type": "code",
      "source": [
        "from geopy.distance import great_circle\n",
        "\n",
        "def get_distance(p1,p2):\n",
        "    return great_circle((p1.y,p1.x),(p2.y,p2.x)).miles"
      ],
      "metadata": {
        "id": "6TrQ5u1BbscX"
      },
      "execution_count": 11,
      "outputs": []
    },
    {
      "cell_type": "code",
      "source": [
        "def build_libraries_from_url(url, name_pos, lat_long_pos):\n",
        "    import requests\n",
        "    import json\n",
        "\n",
        "    r = requests.get(url)\n",
        "    myjson = json.loads(r.text, parse_constant='utf-8')\n",
        "    myjson = myjson['data']\n",
        "\n",
        "    libraries = []\n",
        "    k = 1\n",
        "    for location in myjson:\n",
        "        uname = location[name_pos]\n",
        "        try:\n",
        "            latitude = float(location[lat_long_pos][1])\n",
        "            longitude = float(location[lat_long_pos][2])\n",
        "        except TypeError:\n",
        "            latitude = longitude = None\n",
        "        try:\n",
        "            name = str(uname)\n",
        "        except:\n",
        "            name = \"???\"\n",
        "        name = \"P_%s_%d\" % (name, k)\n",
        "        if latitude and longitude:\n",
        "            cp = NamedPoint(name,longitude, latitude)\n",
        "            libraries.append(cp)\n",
        "            k += 1\n",
        "    return libraries"
      ],
      "metadata": {
        "id": "P3kXhEjbbyc3"
      },
      "execution_count": 12,
      "outputs": []
    },
    {
      "cell_type": "code",
      "source": [
        "libraries = build_libraries_from_url('https://data.cityofchicago.org/api/views/x8fc-8rcq/rows.json?accessType=DOWNLOAD',\n",
        "                                   name_pos=10,\n",
        "                                   lat_long_pos=16)"
      ],
      "metadata": {
        "id": "DqDCy_8CbzK6"
      },
      "execution_count": 13,
      "outputs": []
    },
    {
      "cell_type": "code",
      "source": [
        "print(\"There are %d public libraries in Chicago\" % (len(libraries)))"
      ],
      "metadata": {
        "colab": {
          "base_uri": "https://localhost:8080/"
        },
        "id": "WnVNf97Bn-jA",
        "outputId": "9d29a11b-2476-4b44-ebd3-98935ca54dc1"
      },
      "execution_count": 14,
      "outputs": [
        {
          "output_type": "stream",
          "name": "stdout",
          "text": [
            "There are 81 public libraries in Chicago\n"
          ]
        }
      ]
    },
    {
      "cell_type": "code",
      "source": [
        "nb_shops = 5\n",
        "print(\"We would like to open %d coffee shops\" % nb_shops)"
      ],
      "metadata": {
        "colab": {
          "base_uri": "https://localhost:8080/"
        },
        "id": "nwCYR4nPoG_6",
        "outputId": "8dff315a-39e8-48b6-cb6f-f4fc5aa3a0e6"
      },
      "execution_count": 15,
      "outputs": [
        {
          "output_type": "stream",
          "name": "stdout",
          "text": [
            "We would like to open 5 coffee shops\n"
          ]
        }
      ]
    },
    {
      "cell_type": "code",
      "source": [
        "!pip install tensorflow"
      ],
      "metadata": {
        "colab": {
          "base_uri": "https://localhost:8080/"
        },
        "id": "1707zChnoJ3B",
        "outputId": "8545fbf9-ee74-499b-bb2e-554706ec00a1"
      },
      "execution_count": 16,
      "outputs": [
        {
          "output_type": "stream",
          "name": "stdout",
          "text": [
            "Requirement already satisfied: tensorflow in /usr/local/lib/python3.10/dist-packages (2.12.0)\n",
            "Requirement already satisfied: absl-py>=1.0.0 in /usr/local/lib/python3.10/dist-packages (from tensorflow) (1.4.0)\n",
            "Requirement already satisfied: astunparse>=1.6.0 in /usr/local/lib/python3.10/dist-packages (from tensorflow) (1.6.3)\n",
            "Requirement already satisfied: flatbuffers>=2.0 in /usr/local/lib/python3.10/dist-packages (from tensorflow) (23.5.26)\n",
            "Requirement already satisfied: gast<=0.4.0,>=0.2.1 in /usr/local/lib/python3.10/dist-packages (from tensorflow) (0.4.0)\n",
            "Requirement already satisfied: google-pasta>=0.1.1 in /usr/local/lib/python3.10/dist-packages (from tensorflow) (0.2.0)\n",
            "Requirement already satisfied: grpcio<2.0,>=1.24.3 in /usr/local/lib/python3.10/dist-packages (from tensorflow) (1.56.0)\n",
            "Requirement already satisfied: h5py>=2.9.0 in /usr/local/lib/python3.10/dist-packages (from tensorflow) (3.8.0)\n",
            "Requirement already satisfied: jax>=0.3.15 in /usr/local/lib/python3.10/dist-packages (from tensorflow) (0.4.13)\n",
            "Requirement already satisfied: keras<2.13,>=2.12.0 in /usr/local/lib/python3.10/dist-packages (from tensorflow) (2.12.0)\n",
            "Requirement already satisfied: libclang>=13.0.0 in /usr/local/lib/python3.10/dist-packages (from tensorflow) (16.0.6)\n",
            "Requirement already satisfied: numpy<1.24,>=1.22 in /usr/local/lib/python3.10/dist-packages (from tensorflow) (1.22.4)\n",
            "Requirement already satisfied: opt-einsum>=2.3.2 in /usr/local/lib/python3.10/dist-packages (from tensorflow) (3.3.0)\n",
            "Requirement already satisfied: packaging in /usr/local/lib/python3.10/dist-packages (from tensorflow) (23.1)\n",
            "Requirement already satisfied: protobuf!=4.21.0,!=4.21.1,!=4.21.2,!=4.21.3,!=4.21.4,!=4.21.5,<5.0.0dev,>=3.20.3 in /usr/local/lib/python3.10/dist-packages (from tensorflow) (3.20.3)\n",
            "Requirement already satisfied: setuptools in /usr/local/lib/python3.10/dist-packages (from tensorflow) (67.7.2)\n",
            "Requirement already satisfied: six>=1.12.0 in /usr/local/lib/python3.10/dist-packages (from tensorflow) (1.16.0)\n",
            "Requirement already satisfied: tensorboard<2.13,>=2.12 in /usr/local/lib/python3.10/dist-packages (from tensorflow) (2.12.3)\n",
            "Requirement already satisfied: tensorflow-estimator<2.13,>=2.12.0 in /usr/local/lib/python3.10/dist-packages (from tensorflow) (2.12.0)\n",
            "Requirement already satisfied: termcolor>=1.1.0 in /usr/local/lib/python3.10/dist-packages (from tensorflow) (2.3.0)\n",
            "Requirement already satisfied: typing-extensions>=3.6.6 in /usr/local/lib/python3.10/dist-packages (from tensorflow) (4.7.1)\n",
            "Requirement already satisfied: wrapt<1.15,>=1.11.0 in /usr/local/lib/python3.10/dist-packages (from tensorflow) (1.14.1)\n",
            "Requirement already satisfied: tensorflow-io-gcs-filesystem>=0.23.1 in /usr/local/lib/python3.10/dist-packages (from tensorflow) (0.32.0)\n",
            "Requirement already satisfied: wheel<1.0,>=0.23.0 in /usr/local/lib/python3.10/dist-packages (from astunparse>=1.6.0->tensorflow) (0.40.0)\n",
            "Requirement already satisfied: ml-dtypes>=0.1.0 in /usr/local/lib/python3.10/dist-packages (from jax>=0.3.15->tensorflow) (0.2.0)\n",
            "Requirement already satisfied: scipy>=1.7 in /usr/local/lib/python3.10/dist-packages (from jax>=0.3.15->tensorflow) (1.10.1)\n",
            "Requirement already satisfied: google-auth<3,>=1.6.3 in /usr/local/lib/python3.10/dist-packages (from tensorboard<2.13,>=2.12->tensorflow) (2.17.3)\n",
            "Requirement already satisfied: google-auth-oauthlib<1.1,>=0.5 in /usr/local/lib/python3.10/dist-packages (from tensorboard<2.13,>=2.12->tensorflow) (1.0.0)\n",
            "Requirement already satisfied: markdown>=2.6.8 in /usr/local/lib/python3.10/dist-packages (from tensorboard<2.13,>=2.12->tensorflow) (3.4.3)\n",
            "Requirement already satisfied: requests<3,>=2.21.0 in /usr/local/lib/python3.10/dist-packages (from tensorboard<2.13,>=2.12->tensorflow) (2.27.1)\n",
            "Requirement already satisfied: tensorboard-data-server<0.8.0,>=0.7.0 in /usr/local/lib/python3.10/dist-packages (from tensorboard<2.13,>=2.12->tensorflow) (0.7.1)\n",
            "Requirement already satisfied: werkzeug>=1.0.1 in /usr/local/lib/python3.10/dist-packages (from tensorboard<2.13,>=2.12->tensorflow) (2.3.6)\n",
            "Requirement already satisfied: cachetools<6.0,>=2.0.0 in /usr/local/lib/python3.10/dist-packages (from google-auth<3,>=1.6.3->tensorboard<2.13,>=2.12->tensorflow) (5.3.1)\n",
            "Requirement already satisfied: pyasn1-modules>=0.2.1 in /usr/local/lib/python3.10/dist-packages (from google-auth<3,>=1.6.3->tensorboard<2.13,>=2.12->tensorflow) (0.3.0)\n",
            "Requirement already satisfied: rsa<5,>=3.1.4 in /usr/local/lib/python3.10/dist-packages (from google-auth<3,>=1.6.3->tensorboard<2.13,>=2.12->tensorflow) (4.9)\n",
            "Requirement already satisfied: requests-oauthlib>=0.7.0 in /usr/local/lib/python3.10/dist-packages (from google-auth-oauthlib<1.1,>=0.5->tensorboard<2.13,>=2.12->tensorflow) (1.3.1)\n",
            "Requirement already satisfied: urllib3<1.27,>=1.21.1 in /usr/local/lib/python3.10/dist-packages (from requests<3,>=2.21.0->tensorboard<2.13,>=2.12->tensorflow) (1.26.16)\n",
            "Requirement already satisfied: certifi>=2017.4.17 in /usr/local/lib/python3.10/dist-packages (from requests<3,>=2.21.0->tensorboard<2.13,>=2.12->tensorflow) (2023.5.7)\n",
            "Requirement already satisfied: charset-normalizer~=2.0.0 in /usr/local/lib/python3.10/dist-packages (from requests<3,>=2.21.0->tensorboard<2.13,>=2.12->tensorflow) (2.0.12)\n",
            "Requirement already satisfied: idna<4,>=2.5 in /usr/local/lib/python3.10/dist-packages (from requests<3,>=2.21.0->tensorboard<2.13,>=2.12->tensorflow) (3.4)\n",
            "Requirement already satisfied: MarkupSafe>=2.1.1 in /usr/local/lib/python3.10/dist-packages (from werkzeug>=1.0.1->tensorboard<2.13,>=2.12->tensorflow) (2.1.3)\n",
            "Requirement already satisfied: pyasn1<0.6.0,>=0.4.6 in /usr/local/lib/python3.10/dist-packages (from pyasn1-modules>=0.2.1->google-auth<3,>=1.6.3->tensorboard<2.13,>=2.12->tensorflow) (0.5.0)\n",
            "Requirement already satisfied: oauthlib>=3.0.0 in /usr/local/lib/python3.10/dist-packages (from requests-oauthlib>=0.7.0->google-auth-oauthlib<1.1,>=0.5->tensorboard<2.13,>=2.12->tensorflow) (3.2.2)\n"
          ]
        }
      ]
    },
    {
      "cell_type": "code",
      "source": [
        "try:\n",
        "    import folium\n",
        "except:\n",
        "    if hasattr(sys, 'real_preffix'):\n",
        "        !pip install folium\n",
        "    else:\n",
        "        !pip install folium"
      ],
      "metadata": {
        "id": "hdBExH-eoPGi"
      },
      "execution_count": 17,
      "outputs": []
    },
    {
      "cell_type": "code",
      "source": [
        "import folium\n",
        "map_osm = folium.Map(location = [41.878, -87.629], zoom_start= 11)\n",
        "for library in libraries:\n",
        "    lt = library.y\n",
        "    lg = library.x\n",
        "    folium.Marker([lt, lg]).add_to(map_osm)\n",
        "map_osm"
      ],
      "metadata": {
        "colab": {
          "base_uri": "https://localhost:8080/",
          "height": 866
        },
        "id": "0--viz25oSl_",
        "outputId": "06d514f9-2808-47f2-cfa1-6160fd0f64f6"
      },
      "execution_count": 18,
      "outputs": [
        {
          "output_type": "execute_result",
          "data": {
            "text/plain": [
              "<folium.folium.Map at 0x781577c16bf0>"
            ],
            "text/html": [
              "<div style=\"width:100%;\"><div style=\"position:relative;width:100%;height:0;padding-bottom:60%;\"><span style=\"color:#565656\">Make this Notebook Trusted to load map: File -> Trust Notebook</span><iframe srcdoc=\"&lt;!DOCTYPE html&gt;\n",
              "&lt;html&gt;\n",
              "&lt;head&gt;\n",
              "    \n",
              "    &lt;meta http-equiv=&quot;content-type&quot; content=&quot;text/html; charset=UTF-8&quot; /&gt;\n",
              "    \n",
              "        &lt;script&gt;\n",
              "            L_NO_TOUCH = false;\n",
              "            L_DISABLE_3D = false;\n",
              "        &lt;/script&gt;\n",
              "    \n",
              "    &lt;style&gt;html, body {width: 100%;height: 100%;margin: 0;padding: 0;}&lt;/style&gt;\n",
              "    &lt;style&gt;#map {position:absolute;top:0;bottom:0;right:0;left:0;}&lt;/style&gt;\n",
              "    &lt;script src=&quot;https://cdn.jsdelivr.net/npm/leaflet@1.9.3/dist/leaflet.js&quot;&gt;&lt;/script&gt;\n",
              "    &lt;script src=&quot;https://code.jquery.com/jquery-1.12.4.min.js&quot;&gt;&lt;/script&gt;\n",
              "    &lt;script src=&quot;https://cdn.jsdelivr.net/npm/bootstrap@5.2.2/dist/js/bootstrap.bundle.min.js&quot;&gt;&lt;/script&gt;\n",
              "    &lt;script src=&quot;https://cdnjs.cloudflare.com/ajax/libs/Leaflet.awesome-markers/2.0.2/leaflet.awesome-markers.js&quot;&gt;&lt;/script&gt;\n",
              "    &lt;link rel=&quot;stylesheet&quot; href=&quot;https://cdn.jsdelivr.net/npm/leaflet@1.9.3/dist/leaflet.css&quot;/&gt;\n",
              "    &lt;link rel=&quot;stylesheet&quot; href=&quot;https://cdn.jsdelivr.net/npm/bootstrap@5.2.2/dist/css/bootstrap.min.css&quot;/&gt;\n",
              "    &lt;link rel=&quot;stylesheet&quot; href=&quot;https://netdna.bootstrapcdn.com/bootstrap/3.0.0/css/bootstrap.min.css&quot;/&gt;\n",
              "    &lt;link rel=&quot;stylesheet&quot; href=&quot;https://cdn.jsdelivr.net/npm/@fortawesome/fontawesome-free@6.2.0/css/all.min.css&quot;/&gt;\n",
              "    &lt;link rel=&quot;stylesheet&quot; href=&quot;https://cdnjs.cloudflare.com/ajax/libs/Leaflet.awesome-markers/2.0.2/leaflet.awesome-markers.css&quot;/&gt;\n",
              "    &lt;link rel=&quot;stylesheet&quot; href=&quot;https://cdn.jsdelivr.net/gh/python-visualization/folium/folium/templates/leaflet.awesome.rotate.min.css&quot;/&gt;\n",
              "    \n",
              "            &lt;meta name=&quot;viewport&quot; content=&quot;width=device-width,\n",
              "                initial-scale=1.0, maximum-scale=1.0, user-scalable=no&quot; /&gt;\n",
              "            &lt;style&gt;\n",
              "                #map_31031021d132928be53c4272707555f9 {\n",
              "                    position: relative;\n",
              "                    width: 100.0%;\n",
              "                    height: 100.0%;\n",
              "                    left: 0.0%;\n",
              "                    top: 0.0%;\n",
              "                }\n",
              "                .leaflet-container { font-size: 1rem; }\n",
              "            &lt;/style&gt;\n",
              "        \n",
              "&lt;/head&gt;\n",
              "&lt;body&gt;\n",
              "    \n",
              "    \n",
              "            &lt;div class=&quot;folium-map&quot; id=&quot;map_31031021d132928be53c4272707555f9&quot; &gt;&lt;/div&gt;\n",
              "        \n",
              "&lt;/body&gt;\n",
              "&lt;script&gt;\n",
              "    \n",
              "    \n",
              "            var map_31031021d132928be53c4272707555f9 = L.map(\n",
              "                &quot;map_31031021d132928be53c4272707555f9&quot;,\n",
              "                {\n",
              "                    center: [41.878, -87.629],\n",
              "                    crs: L.CRS.EPSG3857,\n",
              "                    zoom: 11,\n",
              "                    zoomControl: true,\n",
              "                    preferCanvas: false,\n",
              "                }\n",
              "            );\n",
              "\n",
              "            \n",
              "\n",
              "        \n",
              "    \n",
              "            var tile_layer_c0d65ff4f885e7ebc887de00a4793c39 = L.tileLayer(\n",
              "                &quot;https://{s}.tile.openstreetmap.org/{z}/{x}/{y}.png&quot;,\n",
              "                {&quot;attribution&quot;: &quot;Data by \\u0026copy; \\u003ca target=\\&quot;_blank\\&quot; href=\\&quot;http://openstreetmap.org\\&quot;\\u003eOpenStreetMap\\u003c/a\\u003e, under \\u003ca target=\\&quot;_blank\\&quot; href=\\&quot;http://www.openstreetmap.org/copyright\\&quot;\\u003eODbL\\u003c/a\\u003e.&quot;, &quot;detectRetina&quot;: false, &quot;maxNativeZoom&quot;: 18, &quot;maxZoom&quot;: 18, &quot;minZoom&quot;: 0, &quot;noWrap&quot;: false, &quot;opacity&quot;: 1, &quot;subdomains&quot;: &quot;abc&quot;, &quot;tms&quot;: false}\n",
              "            ).addTo(map_31031021d132928be53c4272707555f9);\n",
              "        \n",
              "    \n",
              "            var marker_a05d426b2fe078e34083c6f8de54694a = L.marker(\n",
              "                [41.70283443594318, -87.61428978448026],\n",
              "                {}\n",
              "            ).addTo(map_31031021d132928be53c4272707555f9);\n",
              "        \n",
              "    \n",
              "            var marker_c2c34eb9f30e8e693288a1a89afd44c0 = L.marker(\n",
              "                [41.97557881655979, -87.71361314512697],\n",
              "                {}\n",
              "            ).addTo(map_31031021d132928be53c4272707555f9);\n",
              "        \n",
              "    \n",
              "            var marker_80f9983089dc6da1148142e43114c93d = L.marker(\n",
              "                [41.746393038286826, -87.5860053710736],\n",
              "                {}\n",
              "            ).addTo(map_31031021d132928be53c4272707555f9);\n",
              "        \n",
              "    \n",
              "            var marker_89d77df6c5ae554360a2b87529d47bcc = L.marker(\n",
              "                [41.73244482025524, -87.65772892721816],\n",
              "                {}\n",
              "            ).addTo(map_31031021d132928be53c4272707555f9);\n",
              "        \n",
              "    \n",
              "            var marker_bd6d5f4141c63fe85910982e5c55c72f = L.marker(\n",
              "                [41.897484072390675, -87.62337776811282],\n",
              "                {}\n",
              "            ).addTo(map_31031021d132928be53c4272707555f9);\n",
              "        \n",
              "    \n",
              "            var marker_78f4a463c2c3eb42c807c7c7f2d84592 = L.marker(\n",
              "                [41.86946341218242, -87.66072612668584],\n",
              "                {}\n",
              "            ).addTo(map_31031021d132928be53c4272707555f9);\n",
              "        \n",
              "    \n",
              "            var marker_03a35824bb26414030e1b0c7fe39b52d = L.marker(\n",
              "                [41.997213372156295, -87.76211751799003],\n",
              "                {}\n",
              "            ).addTo(map_31031021d132928be53c4272707555f9);\n",
              "        \n",
              "    \n",
              "            var marker_ff425d13465951e1e986d3e0b930bb1e = L.marker(\n",
              "                [41.78202569697298, -87.63738794358196],\n",
              "                {}\n",
              "            ).addTo(map_31031021d132928be53c4272707555f9);\n",
              "        \n",
              "    \n",
              "            var marker_978d1be8083625dd47072099c3c907e4 = L.marker(\n",
              "                [41.99095923823291, -87.660442745415],\n",
              "                {}\n",
              "            ).addTo(map_31031021d132928be53c4272707555f9);\n",
              "        \n",
              "    \n",
              "            var marker_bbba832a9db25fafdbbd1e6678e30404 = L.marker(\n",
              "                [41.909444834238485, -87.76898326931509],\n",
              "                {}\n",
              "            ).addTo(map_31031021d132928be53c4272707555f9);\n",
              "        \n",
              "    \n",
              "            var marker_23c7285e936a9a5325c174eb39f5bd7f = L.marker(\n",
              "                [41.81634394084193, -87.64256827550598],\n",
              "                {}\n",
              "            ).addTo(map_31031021d132928be53c4272707555f9);\n",
              "        \n",
              "    \n",
              "            var marker_3b5304a5099dd34c9e48f0e22a9c56bb = L.marker(\n",
              "                [41.8327976771251, -87.64629980794813],\n",
              "                {}\n",
              "            ).addTo(map_31031021d132928be53c4272707555f9);\n",
              "        \n",
              "    \n",
              "            var marker_377ef2a2e77a70e37ba681aee905eb51 = L.marker(\n",
              "                [41.88108555559726, -87.67923504553734],\n",
              "                {}\n",
              "            ).addTo(map_31031021d132928be53c4272707555f9);\n",
              "        \n",
              "    \n",
              "            var marker_c5962264351968b1a3efee04b1d03eb2 = L.marker(\n",
              "                [41.93883597361448, -87.75467117455794],\n",
              "                {}\n",
              "            ).addTo(map_31031021d132928be53c4272707555f9);\n",
              "        \n",
              "    \n",
              "            var marker_681e4932f1f10471270cf12340ef099a = L.marker(\n",
              "                [41.7510184591363, -87.61495065361933],\n",
              "                {}\n",
              "            ).addTo(map_31031021d132928be53c4272707555f9);\n",
              "        \n",
              "    \n",
              "            var marker_88dcd722138e0cb0b6657f61002f8240 = L.marker(\n",
              "                [41.76239541819689, -87.60051216643727],\n",
              "                {}\n",
              "            ).addTo(map_31031021d132928be53c4272707555f9);\n",
              "        \n",
              "    \n",
              "            var marker_3890be4a7b8b1a21896ca9b52ca80c69 = L.marker(\n",
              "                [41.74928543110801, -87.72440869132882],\n",
              "                {}\n",
              "            ).addTo(map_31031021d132928be53c4272707555f9);\n",
              "        \n",
              "    \n",
              "            var marker_1b4c90d4e4d69584dfee2d6a869c5fae = L.marker(\n",
              "                [41.65719847558056, -87.59883829075173],\n",
              "                {}\n",
              "            ).addTo(map_31031021d132928be53c4272707555f9);\n",
              "        \n",
              "    \n",
              "            var marker_437cc6c23ea2f83f9995d5cc27c119fd = L.marker(\n",
              "                [41.77875389246921, -87.72374295317714],\n",
              "                {}\n",
              "            ).addTo(map_31031021d132928be53c4272707555f9);\n",
              "        \n",
              "    \n",
              "            var marker_51360cfa516d79845dbd637406c34075 = L.marker(\n",
              "                [41.808384423666354, -87.67756963874196],\n",
              "                {}\n",
              "            ).addTo(map_31031021d132928be53c4272707555f9);\n",
              "        \n",
              "    \n",
              "            var marker_cb5e6d262d580dfeeb7ab459880d1e5d = L.marker(\n",
              "                [42.00682227244734, -87.67330813329413],\n",
              "                {}\n",
              "            ).addTo(map_31031021d132928be53c4272707555f9);\n",
              "        \n",
              "    \n",
              "            var marker_d9c5a67e88b632bbb69451425b756c51 = L.marker(\n",
              "                [41.792915800399726, -87.78013459023622],\n",
              "                {}\n",
              "            ).addTo(map_31031021d132928be53c4272707555f9);\n",
              "        \n",
              "    \n",
              "            var marker_9ad6c3ff1e91057606a69eddb03506e1 = L.marker(\n",
              "                [41.83175130060517, -87.61747228078738],\n",
              "                {}\n",
              "            ).addTo(map_31031021d132928be53c4272707555f9);\n",
              "        \n",
              "    \n",
              "            var marker_15d85b08097e956c4b5a71b9347b0e99 = L.marker(\n",
              "                [41.69198346617567, -87.6739093032301],\n",
              "                {}\n",
              "            ).addTo(map_31031021d132928be53c4272707555f9);\n",
              "        \n",
              "    \n",
              "            var marker_c633643b17fb4e1aa7ac3a716a5d4731 = L.marker(\n",
              "                [41.894726658545295, -87.7063841773407],\n",
              "                {}\n",
              "            ).addTo(map_31031021d132928be53c4272707555f9);\n",
              "        \n",
              "    \n",
              "            var marker_bede62301b6c442424d0489d7a4c07cb = L.marker(\n",
              "                [41.910332307504966, -87.70551941016132],\n",
              "                {}\n",
              "            ).addTo(map_31031021d132928be53c4272707555f9);\n",
              "        \n",
              "    \n",
              "            var marker_b48523ee2ec7460055616853ec7bded9 = L.marker(\n",
              "                [41.962966859427524, -87.68469465366664],\n",
              "                {}\n",
              "            ).addTo(map_31031021d132928be53c4272707555f9);\n",
              "        \n",
              "    \n",
              "            var marker_5d9f39519b972d3ac129b1088f7b422a = L.marker(\n",
              "                [41.80549277198318, -87.58923748614112],\n",
              "                {}\n",
              "            ).addTo(map_31031021d132928be53c4272707555f9);\n",
              "        \n",
              "    \n",
              "            var marker_f6ab488ba2e9568e05153d06cd9fbd62 = L.marker(\n",
              "                [41.90989766464456, -87.73376822625004],\n",
              "                {}\n",
              "            ).addTo(map_31031021d132928be53c4272707555f9);\n",
              "        \n",
              "    \n",
              "            var marker_a3d843b85a3e1a1feec2c4be4206bbd0 = L.marker(\n",
              "                [41.89594730478282, -87.66829305460979],\n",
              "                {}\n",
              "            ).addTo(map_31031021d132928be53c4272707555f9);\n",
              "        \n",
              "    \n",
              "            var marker_01d8f9ac42426a832cf1434b2133f5e5 = L.marker(\n",
              "                [41.98369797603738, -87.69631576617253],\n",
              "                {}\n",
              "            ).addTo(map_31031021d132928be53c4272707555f9);\n",
              "        \n",
              "    \n",
              "            var marker_01b82577ac3324e80ed0ac851a3bd0fe = L.marker(\n",
              "                [41.92540663614013, -87.65806218385674],\n",
              "                {}\n",
              "            ).addTo(map_31031021d132928be53c4272707555f9);\n",
              "        \n",
              "    \n",
              "            var marker_3a4726df2bd501edc4771c7ca13a67b1 = L.marker(\n",
              "                [41.77928203936906, -87.66843344429459],\n",
              "                {}\n",
              "            ).addTo(map_31031021d132928be53c4272707555f9);\n",
              "        \n",
              "    \n",
              "            var marker_3025876f26be5c88731fefe2ed4ceec1 = L.marker(\n",
              "                [41.80110836194246, -87.72648385568911],\n",
              "                {}\n",
              "            ).addTo(map_31031021d132928be53c4272707555f9);\n",
              "        \n",
              "    \n",
              "            var marker_adf89a3d45ab4aeb356e9ea71e30e32d = L.marker(\n",
              "                [41.65927659861025, -87.54881978393514],\n",
              "                {}\n",
              "            ).addTo(map_31031021d132928be53c4272707555f9);\n",
              "        \n",
              "    \n",
              "            var marker_80e07e19f2799dd96c0e1c578a3f303c = L.marker(\n",
              "                [41.95413885986087, -87.7200155607629],\n",
              "                {}\n",
              "            ).addTo(map_31031021d132928be53c4272707555f9);\n",
              "        \n",
              "    \n",
              "            var marker_536fbb9bd5a8a6a72c651036c4fa917a = L.marker(\n",
              "                [41.857601233304614, -87.66116376475367],\n",
              "                {}\n",
              "            ).addTo(map_31031021d132928be53c4272707555f9);\n",
              "        \n",
              "    \n",
              "            var marker_d82df4bf0d8e68203fb6cca4c3157917 = L.marker(\n",
              "                [41.76254141905116, -87.56387694448408],\n",
              "                {}\n",
              "            ).addTo(map_31031021d132928be53c4272707555f9);\n",
              "        \n",
              "    \n",
              "            var marker_07119931f37653a8ff81d3da34dc0858 = L.marker(\n",
              "                [41.85412074173438, -87.63195792246246],\n",
              "                {}\n",
              "            ).addTo(map_31031021d132928be53c4272707555f9);\n",
              "        \n",
              "    \n",
              "            var marker_18837cb2029767e6f22486dc90559836 = L.marker(\n",
              "                [41.86441239309047, -87.71017465670012],\n",
              "                {}\n",
              "            ).addTo(map_31031021d132928be53c4272707555f9);\n",
              "        \n",
              "    \n",
              "            var marker_51736f4c5827c85850bb5b8a25933067 = L.marker(\n",
              "                [41.924860376546214, -87.7035190503226],\n",
              "                {}\n",
              "            ).addTo(map_31031021d132928be53c4272707555f9);\n",
              "        \n",
              "    \n",
              "            var marker_8f45de9e18f25d15711f6c9d12ee6441 = L.marker(\n",
              "                [41.99199760467718, -87.79820642998901],\n",
              "                {}\n",
              "            ).addTo(map_31031021d132928be53c4272707555f9);\n",
              "        \n",
              "    \n",
              "            var marker_d954349780b71275f1888788d273fc27 = L.marker(\n",
              "                [41.9210332601157, -87.79791005523576],\n",
              "                {}\n",
              "            ).addTo(map_31031021d132928be53c4272707555f9);\n",
              "        \n",
              "    \n",
              "            var marker_792af46849ced2f3441ad7a7b95cc583 = L.marker(\n",
              "                [41.9366521886413, -87.78602401236114],\n",
              "                {}\n",
              "            ).addTo(map_31031021d132928be53c4272707555f9);\n",
              "        \n",
              "    \n",
              "            var marker_8247a7e5e7f899f6f600a01287fdd4c1 = L.marker(\n",
              "                [41.91235487836141, -87.68029967133904],\n",
              "                {}\n",
              "            ).addTo(map_31031021d132928be53c4272707555f9);\n",
              "        \n",
              "    \n",
              "            var marker_5260ee29b14adf379b3a489e89797b33 = L.marker(\n",
              "                [42.00507612272344, -87.69021903022175],\n",
              "                {}\n",
              "            ).addTo(map_31031021d132928be53c4272707555f9);\n",
              "        \n",
              "    \n",
              "            var marker_0ecbb9fdcd774733142fa9a91491c744 = L.marker(\n",
              "                [41.940131637508564, -87.64602857926714],\n",
              "                {}\n",
              "            ).addTo(map_31031021d132928be53c4272707555f9);\n",
              "        \n",
              "    \n",
              "            var marker_c9e4e9574b2926ad0acc98ba01c5b5be = L.marker(\n",
              "                [41.67790647382097, -87.6431683153105],\n",
              "                {}\n",
              "            ).addTo(map_31031021d132928be53c4272707555f9);\n",
              "        \n",
              "    \n",
              "            var marker_a605cd997c3c38fc5e4d3c8617941047 = L.marker(\n",
              "                [41.72118978926962, -87.67214620967468],\n",
              "                {}\n",
              "            ).addTo(map_31031021d132928be53c4272707555f9);\n",
              "        \n",
              "    \n",
              "            var marker_15cf03fdf221b05bd69be39b36162b30 = L.marker(\n",
              "                [41.87934542742433, -87.72547641315548],\n",
              "                {}\n",
              "            ).addTo(map_31031021d132928be53c4272707555f9);\n",
              "        \n",
              "    \n",
              "            var marker_ed0c501fff8e760385dcfa3261010476 = L.marker(\n",
              "                [41.757343880012456, -87.6540643783153],\n",
              "                {}\n",
              "            ).addTo(map_31031021d132928be53c4272707555f9);\n",
              "        \n",
              "    \n",
              "            var marker_ecaaab89a4c1c243ab307418b9cdbb03 = L.marker(\n",
              "                [41.88917312206642, -87.7658203582574],\n",
              "                {}\n",
              "            ).addTo(map_31031021d132928be53c4272707555f9);\n",
              "        \n",
              "    \n",
              "            var marker_644ef970476aecccdc4201e5f2eb02ba = L.marker(\n",
              "                [41.73795704970435, -87.70221598421591],\n",
              "                {}\n",
              "            ).addTo(map_31031021d132928be53c4272707555f9);\n",
              "        \n",
              "    \n",
              "            var marker_bd5db800cb593c15b54feb5b4c558bfb = L.marker(\n",
              "                [41.96750826032374, -87.76176748220928],\n",
              "                {}\n",
              "            ).addTo(map_31031021d132928be53c4272707555f9);\n",
              "        \n",
              "    \n",
              "            var marker_31305da69343ab9a2a3d7c5df15314e9 = L.marker(\n",
              "                [41.83030074817219, -87.67349098124289],\n",
              "                {}\n",
              "            ).addTo(map_31031021d132928be53c4272707555f9);\n",
              "        \n",
              "    \n",
              "            var marker_8e5f2f90b7eac4aae137f05476312c2e = L.marker(\n",
              "                [41.73029771500594, -87.54972658730712],\n",
              "                {}\n",
              "            ).addTo(map_31031021d132928be53c4272707555f9);\n",
              "        \n",
              "    \n",
              "            var marker_c14a3c5d483d4d0714a5a1edc37f6688 = L.marker(\n",
              "                [41.776652677565934, -87.78218757614671],\n",
              "                {}\n",
              "            ).addTo(map_31031021d132928be53c4272707555f9);\n",
              "        \n",
              "    \n",
              "            var marker_83dadc38ee4298021740ec9c5b41a087 = L.marker(\n",
              "                [41.693015814018004, -87.70102477600602],\n",
              "                {}\n",
              "            ).addTo(map_31031021d132928be53c4272707555f9);\n",
              "        \n",
              "    \n",
              "            var marker_b4547edd2ddb95f5c03642432426c7e4 = L.marker(\n",
              "                [41.842086096760674, -87.72463965526215],\n",
              "                {}\n",
              "            ).addTo(map_31031021d132928be53c4272707555f9);\n",
              "        \n",
              "    \n",
              "            var marker_ed11104448385d522351cc8c6c2fd3ea = L.marker(\n",
              "                [41.7819767986214, -87.7033680880769],\n",
              "                {}\n",
              "            ).addTo(map_31031021d132928be53c4272707555f9);\n",
              "        \n",
              "    \n",
              "            var marker_261e0654c9904a5301d6ff7d98d8e85f = L.marker(\n",
              "                [41.87686252958797, -87.62779697013237],\n",
              "                {}\n",
              "            ).addTo(map_31031021d132928be53c4272707555f9);\n",
              "        \n",
              "    \n",
              "            var marker_8b2632f2538d26165373371f7f0e1ea4 = L.marker(\n",
              "                [41.81516027827089, -87.70273371160454],\n",
              "                {}\n",
              "            ).addTo(map_31031021d132928be53c4272707555f9);\n",
              "        \n",
              "    \n",
              "            var marker_03b3614ac9d32653350f0f0adb584abf = L.marker(\n",
              "                [41.8950961032908, -87.74806072822989],\n",
              "                {}\n",
              "            ).addTo(map_31031021d132928be53c4272707555f9);\n",
              "        \n",
              "    \n",
              "            var marker_87d4b904366734fefab9490aa33e7737 = L.marker(\n",
              "                [41.84959155873184, -87.70504118331108],\n",
              "                {}\n",
              "            ).addTo(map_31031021d132928be53c4272707555f9);\n",
              "        \n",
              "    \n",
              "            var marker_2efa859d34b4822a7342796bf8dd2f1a = L.marker(\n",
              "                [41.94046531149621, -87.67102536129381],\n",
              "                {}\n",
              "            ).addTo(map_31031021d132928be53c4272707555f9);\n",
              "        \n",
              "    \n",
              "            var marker_601eab5a230e20cb44db703bbec4ef10 = L.marker(\n",
              "                [41.79357525220078, -87.69413004003073],\n",
              "                {}\n",
              "            ).addTo(map_31031021d132928be53c4272707555f9);\n",
              "        \n",
              "    \n",
              "            var marker_5b060999b1fe49faba9eac6d1d8423f4 = L.marker(\n",
              "                [41.978098111742476, -87.81420029973704],\n",
              "                {}\n",
              "            ).addTo(map_31031021d132928be53c4272707555f9);\n",
              "        \n",
              "    \n",
              "            var marker_5b5710183ddf88221c782de52831d0b7 = L.marker(\n",
              "                [41.94319949471892, -87.81395164414246],\n",
              "                {}\n",
              "            ).addTo(map_31031021d132928be53c4272707555f9);\n",
              "        \n",
              "    \n",
              "            var marker_5df8c1bd58e6c0ded1229965382c22f0 = L.marker(\n",
              "                [41.97155143669217, -87.66095347964183],\n",
              "                {}\n",
              "            ).addTo(map_31031021d132928be53c4272707555f9);\n",
              "        \n",
              "    \n",
              "            var marker_fe27dd28c17216a94fbc791b35b12fa5 = L.marker(\n",
              "                [41.8837105009142, -87.6545650515331],\n",
              "                {}\n",
              "            ).addTo(map_31031021d132928be53c4272707555f9);\n",
              "        \n",
              "    \n",
              "            var marker_8788d39a1393451b4d7af94d75acf907 = L.marker(\n",
              "                [41.69436481773882, -87.6181414059763],\n",
              "                {}\n",
              "            ).addTo(map_31031021d132928be53c4272707555f9);\n",
              "        \n",
              "    \n",
              "            var marker_11a9992a7aecd7abe05c58bac9cdbad5 = L.marker(\n",
              "                [41.71340053892868, -87.56573413765888],\n",
              "                {}\n",
              "            ).addTo(map_31031021d132928be53c4272707555f9);\n",
              "        \n",
              "    \n",
              "            var marker_b5ed3d4154326a196095e4e298bc5497 = L.marker(\n",
              "                [41.807377846345496, -87.62263720177272],\n",
              "                {}\n",
              "            ).addTo(map_31031021d132928be53c4272707555f9);\n",
              "        \n",
              "    \n",
              "            var marker_dbf69d920473b194411d37fd80464132 = L.marker(\n",
              "                [41.90393142178499, -87.63660775555267],\n",
              "                {}\n",
              "            ).addTo(map_31031021d132928be53c4272707555f9);\n",
              "        \n",
              "    \n",
              "            var marker_56dfee5a48ee2a0f6959af1af03a3a86 = L.marker(\n",
              "                [41.78028267185317, -87.60712228979007],\n",
              "                {}\n",
              "            ).addTo(map_31031021d132928be53c4272707555f9);\n",
              "        \n",
              "    \n",
              "            var marker_03c388040c02540d386d3015563f146f = L.marker(\n",
              "                [41.95312267684315, -87.77928489355646],\n",
              "                {}\n",
              "            ).addTo(map_31031021d132928be53c4272707555f9);\n",
              "        \n",
              "    \n",
              "            var marker_f7d7c761402b291875fba1e1389023d6 = L.marker(\n",
              "                [41.720694885749005, -87.64304817213312],\n",
              "                {}\n",
              "            ).addTo(map_31031021d132928be53c4272707555f9);\n",
              "        \n",
              "    \n",
              "            var marker_61ae3a6fc5a32d2edab4ee74f098669e = L.marker(\n",
              "                [41.968242773953044, -87.737968778247],\n",
              "                {}\n",
              "            ).addTo(map_31031021d132928be53c4272707555f9);\n",
              "        \n",
              "    \n",
              "            var marker_bb002e5320b424a111c10a37d5cac871 = L.marker(\n",
              "                [41.82824306445502, -87.6263495444489],\n",
              "                {}\n",
              "            ).addTo(map_31031021d132928be53c4272707555f9);\n",
              "        \n",
              "    \n",
              "            var marker_5305fef60a46a8d6385b156ff08dc9dd = L.marker(\n",
              "                [41.95832305807637, -87.65424744448335],\n",
              "                {}\n",
              "            ).addTo(map_31031021d132928be53c4272707555f9);\n",
              "        \n",
              "    \n",
              "            var marker_8eede68c08812f9f32f2eae23aaa3b19 = L.marker(\n",
              "                [41.79476901885989, -87.65502837616037],\n",
              "                {}\n",
              "            ).addTo(map_31031021d132928be53c4272707555f9);\n",
              "        \n",
              "&lt;/script&gt;\n",
              "&lt;/html&gt;\" style=\"position:absolute;width:100%;height:100%;left:0;top:0;border:none !important;\" allowfullscreen webkitallowfullscreen mozallowfullscreen></iframe></div></div>"
            ]
          },
          "metadata": {},
          "execution_count": 18
        }
      ]
    },
    {
      "cell_type": "code",
      "source": [
        "!pip install pandas"
      ],
      "metadata": {
        "colab": {
          "base_uri": "https://localhost:8080/"
        },
        "id": "rTBm0y_qoZtx",
        "outputId": "ea593862-b366-46d0-b112-9f56111c28fc"
      },
      "execution_count": 19,
      "outputs": [
        {
          "output_type": "stream",
          "name": "stdout",
          "text": [
            "Requirement already satisfied: pandas in /usr/local/lib/python3.10/dist-packages (1.5.3)\n",
            "Requirement already satisfied: python-dateutil>=2.8.1 in /usr/local/lib/python3.10/dist-packages (from pandas) (2.8.2)\n",
            "Requirement already satisfied: pytz>=2020.1 in /usr/local/lib/python3.10/dist-packages (from pandas) (2022.7.1)\n",
            "Requirement already satisfied: numpy>=1.21.0 in /usr/local/lib/python3.10/dist-packages (from pandas) (1.22.4)\n",
            "Requirement already satisfied: six>=1.5 in /usr/local/lib/python3.10/dist-packages (from python-dateutil>=2.8.1->pandas) (1.16.0)\n"
          ]
        }
      ]
    },
    {
      "cell_type": "code",
      "source": [
        "!pip install CPLEX"
      ],
      "metadata": {
        "colab": {
          "base_uri": "https://localhost:8080/"
        },
        "id": "PID6eu-EofpG",
        "outputId": "9cf5fbd5-1edf-4f7e-ba71-0eafa662c539"
      },
      "execution_count": 20,
      "outputs": [
        {
          "output_type": "stream",
          "name": "stdout",
          "text": [
            "Collecting CPLEX\n",
            "  Downloading cplex-22.1.1.0-cp310-cp310-manylinux1_x86_64.whl (44.2 MB)\n",
            "\u001b[2K     \u001b[90m━━━━━━━━━━━━━━━━━━━━━━━━━━━━━━━━━━━━━━━━\u001b[0m \u001b[32m44.2/44.2 MB\u001b[0m \u001b[31m20.5 MB/s\u001b[0m eta \u001b[36m0:00:00\u001b[0m\n",
            "\u001b[?25hInstalling collected packages: CPLEX\n",
            "Successfully installed CPLEX-22.1.1.0\n"
          ]
        }
      ]
    },
    {
      "cell_type": "code",
      "source": [
        "from docplex.mp.environment import Environment\n",
        "env = Environment()\n",
        "env.print_information()"
      ],
      "metadata": {
        "colab": {
          "base_uri": "https://localhost:8080/"
        },
        "id": "Sp0TsYwMokrs",
        "outputId": "2095e828-dbfe-4953-a1ba-629f56e2c012"
      },
      "execution_count": 21,
      "outputs": [
        {
          "output_type": "stream",
          "name": "stdout",
          "text": [
            "* system is: Linux 64bit\n",
            "* Python version 3.10.6, located at: /usr/bin/python3\n",
            "* docplex is present, version is 2.25.236\n",
            "* CPLEX library is present, version is 22.1.1.0, located at: /usr/local/lib/python3.10/dist-packages\n",
            "* pandas is present, version is 1.5.3\n"
          ]
        }
      ]
    },
    {
      "cell_type": "code",
      "source": [
        "from docplex.mp.model import Model\n",
        "mdl = Model(\"coffee shops\")"
      ],
      "metadata": {
        "id": "TMrThrKmopIg"
      },
      "execution_count": 22,
      "outputs": []
    },
    {
      "cell_type": "code",
      "source": [
        "BIGNUM = 999999999\n",
        "libraries = set(libraries)\n",
        "# for simplicity lets consider location kof coffe shops and libraries are same\n",
        "coffeeshop_locations = libraries\n",
        "coffeeshop_vars = mdl.binary_var_dict(coffeeshop_locations, name = \"is_coffeeshop\")\n",
        "link_vars = mdl.binary_var_matrix(coffeeshop_locations, libraries, \"link\")"
      ],
      "metadata": {
        "id": "6FN4bb_TouP2"
      },
      "execution_count": 23,
      "outputs": []
    },
    {
      "cell_type": "code",
      "source": [
        "#distance constraints\n",
        "for c_loc in coffeeshop_locations:\n",
        "    for b in libraries:\n",
        "        if get_distance(c_loc,b)>= BIGNUM:\n",
        "            mdl.add_constraint(link_vars[c_loc,b] == 0, \"ct_forbid_{0!s}_{1!s}\".format(c_loc,b))"
      ],
      "metadata": {
        "id": "774cAX8uov21"
      },
      "execution_count": 24,
      "outputs": []
    },
    {
      "cell_type": "code",
      "source": [
        "#coffee shop open constraints\n",
        "mdl.add_constraints(link_vars[c_loc, b] <= coffeeshop_vars[c_loc]\n",
        "                   for b in libraries\n",
        "                   for c_loc in coffeeshop_locations)\n",
        "mdl.print_information()"
      ],
      "metadata": {
        "colab": {
          "base_uri": "https://localhost:8080/"
        },
        "id": "5y3sH-YWozZK",
        "outputId": "7f215b39-06b0-4951-8488-838abef2d8d9"
      },
      "execution_count": 25,
      "outputs": [
        {
          "output_type": "stream",
          "name": "stdout",
          "text": [
            "Model: coffee shops\n",
            " - number of variables: 6642\n",
            "   - binary=6642, integer=0, continuous=0\n",
            " - number of constraints: 6561\n",
            "   - linear=6561\n",
            " - parameters: defaults\n",
            " - objective: none\n",
            " - problem type is: MILP\n"
          ]
        }
      ]
    },
    {
      "cell_type": "code",
      "source": [
        "#single connection line constraints\n",
        "mdl.add_constraints(mdl.sum(link_vars[c_loc, b] for c_loc in coffeeshop_locations)==1\n",
        "                    for b in libraries\n",
        "                   )\n",
        "mdl.print_information()"
      ],
      "metadata": {
        "colab": {
          "base_uri": "https://localhost:8080/"
        },
        "id": "JQXAtzmGo18R",
        "outputId": "9a7d1851-970a-4984-f34c-1baf3d7188b0"
      },
      "execution_count": 26,
      "outputs": [
        {
          "output_type": "stream",
          "name": "stdout",
          "text": [
            "Model: coffee shops\n",
            " - number of variables: 6642\n",
            "   - binary=6642, integer=0, continuous=0\n",
            " - number of constraints: 6642\n",
            "   - linear=6642\n",
            " - parameters: defaults\n",
            " - objective: none\n",
            " - problem type is: MILP\n"
          ]
        }
      ]
    },
    {
      "cell_type": "code",
      "source": [
        "#fixed number of coffeeshops\n",
        "mdl.add_constraint(mdl.sum(coffeeshop_vars[c_loc] for c_loc in coffeeshop_locations) == nb_shops)\n",
        "mdl.print_information()"
      ],
      "metadata": {
        "colab": {
          "base_uri": "https://localhost:8080/"
        },
        "id": "ULcbq7Hip_Gx",
        "outputId": "99c94ad3-9003-4c75-f056-565f59487f46"
      },
      "execution_count": 27,
      "outputs": [
        {
          "output_type": "stream",
          "name": "stdout",
          "text": [
            "Model: coffee shops\n",
            " - number of variables: 6642\n",
            "   - binary=6642, integer=0, continuous=0\n",
            " - number of constraints: 6643\n",
            "   - linear=6643\n",
            " - parameters: defaults\n",
            " - objective: none\n",
            " - problem type is: MILP\n"
          ]
        }
      ]
    },
    {
      "cell_type": "code",
      "source": [
        "total_distance = mdl.sum(link_vars[c_loc,b]*get_distance(c_loc,b) for c_loc in coffeeshop_locations for b in libraries )\n",
        "mdl.minimize(total_distance)"
      ],
      "metadata": {
        "id": "HmyFtHk2qBeL"
      },
      "execution_count": 28,
      "outputs": []
    },
    {
      "cell_type": "code",
      "source": [
        "import cplex\n",
        "print(\"# coffee shops locations = %d\" % len(coffeeshop_locations))\n",
        "print(\"# coffee shops           = %d\" % nb_shops)\n",
        "\n",
        "assert mdl.solve(), \"!!! Solve of the model fails\""
      ],
      "metadata": {
        "id": "xQqJCKtrqJUT"
      },
      "execution_count": null,
      "outputs": []
    },
    {
      "cell_type": "code",
      "source": [
        "total_distance = mdl.objective_value\n",
        "open_coffeeshops = [c_loc for c_loc in coffeeshop_locations if coffeeshop_vars[c_loc].solution_value == 1]\n",
        "not_coffeeshops = [c_loc for c_loc in coffeeshop_locations if c_loc not in open_coffeeshops]\n",
        "edges = [(c_loc, b) for b in libraries for c_loc in coffeeshop_locations if int(link_vars[c_loc, b]) == 1]\n",
        "\n",
        "print(\"Total distance = %g\" % total_distance)\n",
        "print(\"# coffee shops  = {0}\".format(len(open_coffeeshops)))\n",
        "for c in open_coffeeshops:\n",
        "    print(\"new coffee shop: {0!s}\".format(c))"
      ],
      "metadata": {
        "id": "-z07FRf0qLF1"
      },
      "execution_count": null,
      "outputs": []
    },
    {
      "cell_type": "code",
      "source": [
        "import folium\n",
        "map_osm = folium.Map(location=[41.878, -87.629], zoom_start=11)\n",
        "for coffeeshop in open_coffeeshops:\n",
        "    lt = coffeeshop.y\n",
        "    lg = coffeeshop.x\n",
        "    folium.Marker([lt, lg], icon=folium.Icon(color='red',icon='info-sign')).add_to(map_osm)\n",
        "\n",
        "for b in libraries:\n",
        "    if b not in open_coffeeshops:\n",
        "        lt = b.y\n",
        "        lg = b.x\n",
        "        folium.Marker([lt, lg]).add_to(map_osm)\n",
        "\n",
        "\n",
        "for (c, b) in edges:\n",
        "    coordinates = [[c.y, c.x], [b.y, b.x]]\n",
        "    map_osm.add_child(folium.PolyLine(coordinates, color='#FF0000', weight=5))\n",
        "\n",
        "map_osm"
      ],
      "metadata": {
        "id": "bx-vFRrrqNvH"
      },
      "execution_count": null,
      "outputs": []
    }
  ]
}